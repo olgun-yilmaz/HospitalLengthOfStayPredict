{
 "cells": [
  {
   "cell_type": "code",
   "id": "initial_id",
   "metadata": {
    "collapsed": true,
    "ExecuteTime": {
     "end_time": "2025-01-28T06:00:22.274245Z",
     "start_time": "2025-01-28T06:00:22.054060Z"
    }
   },
   "source": [
    "# import libraries\n",
    "import os\n",
    "\n",
    "import numpy as np\n",
    "import pandas as pd\n",
    "\n",
    "from matplotlib import pyplot as plt\n",
    "import seaborn as sns\n",
    "\n",
    "from sklearn.model_selection import train_test_split\n",
    "from sklearn.preprocessing import OrdinalEncoder, LabelEncoder\n",
    "\n",
    "from sklearn.metrics import mean_squared_error, classification_report\n",
    "from sklearn.tree import DecisionTreeClassifier, DecisionTreeRegressor\n",
    "\n",
    "import warnings\n",
    "warnings.filterwarnings('ignore')"
   ],
   "outputs": [],
   "execution_count": 1
  },
  {
   "metadata": {
    "ExecuteTime": {
     "end_time": "2025-01-28T06:00:22.289743Z",
     "start_time": "2025-01-28T06:00:22.274245Z"
    }
   },
   "cell_type": "code",
   "source": "os.chdir(\"res\")",
   "id": "f518367ae54e187d",
   "outputs": [],
   "execution_count": 2
  },
  {
   "metadata": {
    "ExecuteTime": {
     "end_time": "2025-01-28T06:00:33.312189Z",
     "start_time": "2025-01-28T06:00:22.497223Z"
    }
   },
   "cell_type": "code",
   "source": [
    "# load data\n",
    "df = pd.read_csv(\"Hospital_Inpatient_Discharges__SPARCS_De-Identified___2021_20231012.csv\")\n",
    "# https://www.kaggle.com/datasets/bhautikmangukiya12/hospital-inpatient-discharges-dataset "
   ],
   "id": "7e6a8886fe41fe8a",
   "outputs": [],
   "execution_count": 3
  }
 ],
 "metadata": {
  "kernelspec": {
   "display_name": "Python 3",
   "language": "python",
   "name": "python3"
  },
  "language_info": {
   "codemirror_mode": {
    "name": "ipython",
    "version": 2
   },
   "file_extension": ".py",
   "mimetype": "text/x-python",
   "name": "python",
   "nbconvert_exporter": "python",
   "pygments_lexer": "ipython2",
   "version": "2.7.6"
  }
 },
 "nbformat": 4,
 "nbformat_minor": 5
}
